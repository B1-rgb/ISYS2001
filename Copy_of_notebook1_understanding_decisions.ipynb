{
  "cells": [
    {
      "cell_type": "markdown",
      "metadata": {
        "id": "view-in-github",
        "colab_type": "text"
      },
      "source": [
        "<a href=\"https://colab.research.google.com/github/B1-rgb/ISYS2001/blob/main/Copy_of_notebook1_understanding_decisions.ipynb\" target=\"_parent\"><img src=\"https://colab.research.google.com/assets/colab-badge.svg\" alt=\"Open In Colab\"/></a>"
      ]
    },
    {
      "cell_type": "markdown",
      "metadata": {
        "id": "zA9Zf10yQQ0H"
      },
      "source": [
        "# Notebook 1: Understanding Decisions with AI\n",
        "\n",
        "## 📝 How to Use This Notebook\n",
        "\n",
        "**Text cells like this:** Double-click to edit your thoughts, then Shift+Enter to save\n",
        "\n",
        "**Code cells:** Write your Python code and run with Ctrl+Enter  \n",
        "\n",
        "**Your notebook, your learning:** Edit anything, experiment freely!"
      ]
    },
    {
      "cell_type": "markdown",
      "metadata": {
        "id": "SCx_UiOyQQ0Q"
      },
      "source": [
        "## The Core Challenge\n",
        "\n",
        "Today you'll tackle a common programming problem: **How do programs make decisions?**\n",
        "\n",
        "But here's the twist: Instead of following recipes, you'll learn to **think through the problem first**, then figure out how to express your thinking in code.\n",
        "\n",
        "---\n",
        "\n",
        "## Activity 1: Problem Analysis Before Coding (15 minutes)\n",
        "\n",
        "### The Scenario: Academic Standing System\n",
        "\n",
        "Your university needs a system to classify students based on their GPA. Before writing any code, let's think through this problem:\n",
        "\n",
        "**Step 1: Understanding the Problem**\n",
        "\n",
        "- What inputs do we need?\n",
        "- What outputs should we produce?\n",
        "- What are the decision points?"
      ]
    },
    {
      "cell_type": "markdown",
      "source": [
        "\n",
        "> **Write your analysis here (double-click this cell to edit):**\n",
        "\n",
        "```\n",
        "Input needed: Student GPA has to be numerical value\n",
        "\n",
        "Output needed:Academic Status as a categorical laebl\n",
        "\n",
        "Decision points: GPA thresholds for academic status that is assigned\n",
        "```"
      ],
      "metadata": {
        "id": "sc-PoDFwQ99J"
      }
    },
    {
      "cell_type": "markdown",
      "source": [
        "**Step 2: Define the Logic**\n",
        "\n",
        "How should a university classify students? Think about this logically:\n",
        "\n",
        "- What GPA ranges make sense?\n",
        "- What should happen at boundary cases (exactly 3.0, exactly 3.5)?\n",
        "- What categories would be helpful for students?\n",
        "\n",
        "\n"
      ],
      "metadata": {
        "id": "fXrdwm6MRg3u"
      }
    },
    {
      "cell_type": "markdown",
      "source": [
        "**Design your classification system:**\n",
        "> Write your analysis here (double-click this cell to edit):\n",
        "\n",
        "```\n",
        "If GPA is >= 3.5, then status is Dean's List\n",
        "If GPA is >=3.0 and <3.5, then status is Good Standing\n",
        "If GPA is <3.0, then status is Probation\n",
        "```"
      ],
      "metadata": {
        "id": "SAac_znPRktG"
      }
    },
    {
      "cell_type": "markdown",
      "source": [
        "**Step 3: Test Your Logic**\n",
        "\n",
        "Before coding, test your thinking:\n",
        "\n",
        "- Student A has GPA 3.7 → Dean's List?\n",
        "- Student B has GPA 2.9 → less than 3.0 is probation?  \n",
        "- Student C has GPA exactly 3.0 → Less than 3.5 is good standing?"
      ],
      "metadata": {
        "id": "LRxe3EJ-RwB7"
      }
    },
    {
      "cell_type": "markdown",
      "source": [
        "> **Write your predictions (double-click to edit):**\n",
        "\n",
        "```\n",
        "Student A (3.7): If student study more than 5 hours and high stress level breaks are encouraged to let burnout away\n",
        "\n",
        "Student B (2.9): If student has low stress level they should study more since it's less than 2 hours\n",
        "\n",
        "Student C (3.0): and give them a motivational message like never give up\n",
        "```"
      ],
      "metadata": {
        "id": "dxtX-483R0Op"
      }
    },
    {
      "cell_type": "markdown",
      "metadata": {
        "id": "ckoFOI-PQQ0S"
      },
      "source": [
        "---\n",
        "\n",
        "### AI Collaboration Checkpoint 1\n",
        "\n",
        "Now that you've thought through the problem, here's where AI can help:\n",
        "\n",
        "**Good AI Prompt**:\n",
        "\n",
        "> \"I've designed a GPA classification system with these ranges: [your ranges]. Can you help me write Python code that implements this logic using if/elif/else statements?\"\n",
        "\n",
        "**Less Helpful Prompt**:\n",
        "\n",
        "> \"Write a GPA calculator\"\n",
        "\n",
        "**Try it**: Use your preferred AI tool with your thoughtful prompt. Compare the AI's solution to your logic. Does it match your thinking?\n",
        "\n",
        "**Reflection**: What did the AI do differently? Was your logic clearer or was the AI's? Why?\n",
        "\n",
        "---\n",
        "\n",
        "## Activity 2: Independent Problem Solving (20 minutes)\n",
        "\n",
        "### Your Challenge: Design a Study Recommendation System\n",
        "\n",
        "A learning app wants to give students personalized study advice. Your job is to design the decision logic.\n",
        "\n",
        "**Step 1: Problem Definition** (5 minutes)\n",
        "\n",
        "Think about what factors should influence study recommendations:\n",
        "\n",
        "- How many hours has the student studied today?\n",
        "- What's their stress level?\n",
        "- When is their next exam?\n",
        "- How much sleep did they get?\n",
        "\n",
        "**Choose 2-3 factors that matter most to you and define your logic (double-click to edit):**\n",
        "\n",
        "My factors:\n",
        "\n",
        "My decision rules:\n",
        "\n",
        "**Step 2: Design Your Algorithm** (5 minutes)\n"
      ]
    },
    {
      "cell_type": "markdown",
      "source": [
        "> Create a flowchart or written logic for your system (double-click to edit):\n",
        "\n",
        "F hours_studied > 5 AND stress_level > 7\n",
        "    THEN recommend \"Take a break to avoid burnout. That is bad for health\n",
        "\n",
        "ELIF hours_studied < 2 AND stress_level < 4\n",
        "    THEN recommend \"Time to start a study session! You literally do nothing\n",
        "\n",
        "ELSE\n",
        "    THEN recommend \"You're on the right track! Keep up the good work. Yea consistency is key.\n",
        "```\n"
      ],
      "metadata": {
        "id": "O7ZIgFy2SOFE"
      }
    },
    {
      "cell_type": "markdown",
      "source": [
        "**Step 3: Implement and Test** (10 minutes)\n",
        "\n",
        "Now write the Python code for your system. You can:\n",
        "\n",
        "- Try coding it yourself first\n",
        "- Use AI to help with syntax after you have your logic clear\n",
        "- Ask AI to review your approach\n",
        "\n",
        "**Code your solution here:**"
      ],
      "metadata": {
        "id": "dBWmPVBoSQ1Z"
      }
    },
    {
      "cell_type": "code",
      "metadata": {
        "id": "-TotIUVwQQ0V",
        "colab": {
          "base_uri": "https://localhost:8080/"
        },
        "outputId": "df47fe1a-342d-4994-e4e0-6fe671bf65e5"
      },
      "source": [
        "# Your study recommendation system\n",
        "# Define a function named get_study_recommendation that takes two inputs:\n",
        "# hours_studied (how many hours the student studied)\n",
        "# stress_level (a number representing how stressed the student feels, on a scale)\n",
        "def get_study_recommendation(hours_studied, stress_level):\n",
        "    if hours_studied < 1 and stress_level > 7:\n",
        "        recommendation = \"Take a break and get some rest. Burnout is common.\"\n",
        "    elif hours_studied < 3 and stress_level <= 7:\n",
        "        recommendation = \"Consider a different study session on a high-priority topic.\"\n",
        "    else:\n",
        "        recommendation = \"You're on track! Keep up the consistency.\"\n",
        "    return recommendation\n",
        "\n",
        "# Test cases to try:\n",
        "print(f\"Student who studied 6 hours, stress level 8: {get_study_recommendation(6, 8)}\")\n",
        "print(f\"Student who studied 1 hour, stress level 3: {get_study_recommendation(1, 3)}\")\n",
        "print(f\"Student who studied 0 hours, exam tomorrow: {get_study_recommendation(0, 9)}\")"
      ],
      "execution_count": null,
      "outputs": [
        {
          "output_type": "stream",
          "name": "stdout",
          "text": [
            "Student who studied 6 hours, stress level 8: You're on track! Keep up the consistency.\n",
            "Student who studied 1 hour, stress level 3: Consider a different study session on a high-priority topic.\n",
            "Student who studied 0 hours, exam tomorrow: Take a break and get some rest. Burnout is common.\n"
          ]
        }
      ]
    },
    {
      "cell_type": "markdown",
      "metadata": {
        "id": "_Fn59LtNQQ0Y"
      },
      "source": [
        "**Test cases to try:**\n",
        "- Student who studied 6 hours, stress level 8\n",
        "- Student who studied 1 hour, stress level 3  \n",
        "- Student who studied 0 hours, exam tomorrow\n",
        "\n",
        "---\n",
        "\n",
        "### AI Collaboration Checkpoint 2\n",
        "\n",
        "**Effective AI Collaboration Strategy**:\n",
        "\n",
        "1. **Problem Analysis First**: \"I want to build X system that does Y. What factors should I consider?\"\n",
        "\n",
        "2. **Logic Review**: \"Here's my decision logic: [your logic]. Does this make sense? What am I missing?\"\n",
        "\n",
        "3. **Implementation Help**: \"Help me implement this logic in Python using if/elif/else\"\n",
        "\n",
        "4. **Testing Guidance**: \"What test cases should I use to verify this works correctly?\"\n",
        "\n",
        "**Try this approach**: Pick one of these collaboration points and try it with AI. What did you learn?\n",
        "\n",
        "---\n",
        "\n",
        "## Activity 3: Debugging and Refinement (10 minutes)\n",
        "\n",
        "### The Broken Code Challenge\n",
        "\n",
        "Here's some code that doesn't work as intended. Your job: **Figure out what's wrong by thinking through the logic first**."
      ]
    },
    {
      "cell_type": "code",
      "metadata": {
        "id": "JZBO4m2SQQ0a"
      },
      "source": [
        "student_gpa = 3.2\n",
        "\n",
        "if student_gpa >= 3.5:\n",
        "    status = \"Dean's List\"\n",
        "elif student_gpa >= 3.0:\n",
        "    status = \"Good Standing\"\n",
        "elif student_gpa >= 2.0:\n",
        "    status = \"Probation\"\n",
        "else:\n",
        "    status = \"Failing\"\n",
        "\n",
        "print(f\"Status: {status}\")"
      ],
      "execution_count": null,
      "outputs": []
    },
    {
      "cell_type": "markdown",
      "metadata": {
        "id": "UzeyELKgQQ0c"
      },
      "source": [
        "**Step 1: Trace Through the Logic**\n",
        "\n",
        "What happens when `student_gpa = 3.2`?\n",
        "\n",
        "- Check 1: `3.2 >= 2.0`? → (double-click to write your answer)\n",
        "- If true, what happens next? →\n",
        "\n",
        "**Step 2: Identify the Problem**\n",
        "\n",
        "What's wrong with this logic? Write your analysis (double-click to edit):\n",
        "\n",
        "The problem is:\n",
        "\n",
        "It happens because:\n",
        "\n",
        "**Step 3: Fix It**\n",
        "\n",
        "How would you fix this code? Write your corrected version:"
      ]
    },
    {
      "cell_type": "code",
      "metadata": {
        "id": "oX4-1RuMQQ0d"
      },
      "source": [
        "\n",
        "\n",
        "# Your fixed version here\n",
        "student_gpa = 3.2 # This stores the student's GPA value\n",
        "# Start of conditional statements to check GPA ranges and assign appropriate status\n",
        "if student_gpa >= 3.5:\n",
        "    status = \"Dean's List\"\n",
        "elif student_gpa >= 3.0:\n",
        "    status = \"Good Standing\"\n",
        "elif student_gpa >= 2.0:\n",
        "    status = \"Probation\"\n",
        "else:\n",
        "    status = \"Failing\"\n",
        "\n",
        "print(f\"Status: {status}\")\n"
      ],
      "execution_count": null,
      "outputs": []
    },
    {
      "cell_type": "markdown",
      "metadata": {
        "id": "Cu1Zv1veQQ0e"
      },
      "source": [
        "About Problem-Solving\n",
        "\n",
        "It's usually more difficult to plunge directly into coding without a strategy. Although it may feel quicker initially, it tends to result in annoying logical mistakes that take a lot longer to debug afterward. Working out the logic first offers a well-defined itinerary, which makes the coding process quicker and more precise.\n",
        "\n",
        "\n",
        "Breaking down the problem into manageable pieces was the crucial point. It forced us to define the inputs, outputs, and decision points in terms independent of the code. This allowed us to decouple the basic logic issue (the order of the if/elif being incorrect) from any potential syntactic issues. Applying test cases to trace the logic out, we could easily identify where it failed before we'd even touched the keyboard.\n",
        "\n",
        "\n",
        "AI is most helpful after you've performed the initial problem analysis. It's a wonderful collaborator for coding and debugging. AI can quickly translate your rules of logic into code, point out and comment on syntax errors, and help you find subtle logical errors in your code once you've identified an area of trouble.\n",
        "\n",
        "\n",
        "Asking AI to \"solve a problem\" (e.g., \"Write a GPA calculator\") provides you with the complete solution which you may not fully understand. Asking AI to \"assist you in solving it\" (e.g., \"Here is my reasoning, help me translate it\") keeps control in your hands. This approach makes the AI into an implementation and learning vehicle, enhancing your own problem-solving ability rather than replacing it.\n",
        "\n",
        "\n",
        "\n",
        "The goal is to understand why the solution is correct. We not only fixed the logical mistake and restated the conditions, but now we know that the sequential nature of Python's if/elif statements is what makes the solution correct. We did not just choose a band-aid solution; we learned the principle behind it. This is the difference between copy-book programming and learning to program.\n",
        "\n",
        "\n",
        "Yes, the final logic is simple enough to be described openly: \"To classify a student's status, we look for most specific, highest level (Dean's List). If they do not qualify for that, we move down one level (Good Standing), and we continue this process until we give them the highest available level based on their GPA.\" This ability to describe the solution is a sign of true understanding"
      ]
    },
    {
      "cell_type": "code",
      "source": [],
      "metadata": {
        "id": "WV6P6gNQ1KPI"
      },
      "execution_count": null,
      "outputs": []
    }
  ],
  "metadata": {
    "kernelspec": {
      "display_name": "Python 3",
      "language": "python",
      "name": "python3"
    },
    "colab": {
      "provenance": [],
      "include_colab_link": true
    }
  },
  "nbformat": 4,
  "nbformat_minor": 0
}