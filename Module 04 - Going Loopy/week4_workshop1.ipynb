{
  "cells": [
    {
      "cell_type": "markdown",
      "metadata": {
        "id": "view-in-github",
        "colab_type": "text"
      },
      "source": [
        "<a href=\"https://colab.research.google.com/github/B1-rgb/ISYS2001/blob/main/Module%2004%20-%20Going%20Loopy/week4_workshop1.ipynb\" target=\"_parent\"><img src=\"https://colab.research.google.com/assets/colab-badge.svg\" alt=\"Open In Colab\"/></a>"
      ]
    },
    {
      "cell_type": "markdown",
      "metadata": {
        "id": "ej8nGOu5BUyH"
      },
      "source": [
        "# Week 4 Workshop 1: Loop Fundamentals\n",
        "## Building Repetition Into Your Finance Tracker\n",
        "\n",
        "**Duration:** 45 minutes  \n",
        "**Goal:** Master the core patterns of repetition in programming through financial scenarios\n",
        "\n",
        "### What You'll Build\n",
        "By the end of this workshop, your finance tracker will handle:\n",
        "- ✅ Multiple expense entries in one session\n",
        "- ✅ Smart input validation that keeps asking until valid\n",
        "- ✅ Running totals and budget tracking\n",
        "- ✅ User-controlled program flow (menus that loop)\n",
        "\n",
        "---"
      ]
    },
    {
      "cell_type": "markdown",
      "metadata": {
        "id": "NYy3B_TNBUyd"
      },
      "source": [
        "## Part 1: Design Before Code (10 minutes)\n",
        "\n",
        "### 🧠 Computational Thinking Exercise\n",
        "\n",
        "Before writing any loops, let's think through the patterns you'll need:\n",
        "\n",
        "**Scenario:** You want to track a week's worth of expenses, but you don't know how many transactions you'll have each day.\n",
        "\n",
        "#### Your Design Challenge\n",
        "In the cell below, write pseudocode (plain English) for how you'd handle this:\n",
        "\n",
        "```\n",
        "Example pseudocode:\n",
        "1. Ask user how many expenses they have\n",
        "2. For each expense...\n",
        "3. Validate the input...\n",
        "4. Calculate running total...\n",
        "```"
      ]
    },
    {
      "cell_type": "code",
      "execution_count": null,
      "metadata": {
        "id": "tmk9wPNuBUyf"
      },
      "outputs": [],
      "source": [
        "# === Part 1: Expense Categories Setup ===\n",
        "print(\"=== Expense Categories Setup ===\")\n",
        "categories = []\n",
        "\n",
        "print(\"Enter expense categories (type 'finish' when done):\")\n",
        "\n",
        "while True:\n",
        "    category = input(\"Category name: \").strip()\n",
        "    if category.lower() == 'finish':\n",
        "        break\n",
        "    elif category == \"\":\n",
        "        print(\"  ❌ Category name cannot be empty!\")\n",
        "    else:\n",
        "        categories.append(category)\n",
        "        print(f\"  ✅ Added category: {category}\")\n",
        "\n",
        "print(f\"✅ Categories set: {categories}\")"
      ]
    },
    {
      "cell_type": "markdown",
      "metadata": {
        "id": "Yeu7EQimBUyh"
      },
      "source": [
        "### 🤝 AI Checkpoint 1: Design Review\n",
        "\n",
        "Once you've written your pseudocode, copy it and ask AI:\n",
        "\n",
        "```\n",
        "\"I'm learning loops in Python. Here's my pseudocode for tracking multiple expenses:\n",
        "[paste your pseudocode]\n",
        "\n",
        "What repetition patterns do you see here? Should I use while loops, for loops, or both?\n",
        "I know basic if/else and input/output but not functions yet.\"\n",
        "```\n",
        "\n",
        "**Reflect:** How does AI's feedback compare to your initial thinking?\n",
        "\n",
        "---"
      ]
    },
    {
      "cell_type": "markdown",
      "metadata": {
        "id": "X6ojOzioBUyh"
      },
      "source": [
        "## Part 2: While Loops for Validation (15 minutes)\n",
        "\n",
        "### 🛡️ Smart Input Validation\n",
        "\n",
        "Your finance tracker needs to handle invalid inputs gracefully. Let's start with the most important validation pattern:"
      ]
    },
    {
      "cell_type": "code",
      "execution_count": null,
      "metadata": {
        "id": "73gVlO5DBUyi"
      },
      "outputs": [],
      "source": [
        "print(\"\\n=== Part 2: Weekly Expense Planner ===\")\n",
        "\n",
        "days = [\"Monday\", \"Tuesday\", \"Wednesday\", \"Thursday\", \"Friday\"]\n",
        "weekly_expenses = []\n",
        "total_week = 0\n",
        "\n",
        "print(\"Plan your expenses for each workday:\")\n",
        "for day in days:\n",
        "    while True:\n",
        "        try:\n",
        "            expense_str = input(f\"{day} planned expense: $\")\n",
        "            expense = float(expense_str)\n",
        "            if expense >= 0:\n",
        "                weekly_expenses.append(expense)\n",
        "                total_week += expense\n",
        "                break\n",
        "            else:\n",
        "                print(\"  ❌ Expense must be non-negative\")\n",
        "        except ValueError:\n",
        "            print(\"  ❌ Please enter a valid number\")\n",
        "\n",
        "print(f\"\\n📅 Weekly Plan: ${total_week:.2f} total\")\n",
        "print(f\"📊 Daily average: ${total_week/len(days):.2f}\")"
      ]
    },
    {
      "cell_type": "markdown",
      "metadata": {
        "id": "Bmp2k5p2BUyj"
      },
      "source": [
        "### 🎯 Your Challenge: Budget Validation\n",
        "\n",
        "Extend the validation pattern above for monthly budget entry. Your budget should be:\n",
        "- A positive number\n",
        "- At least $100 (reasonable minimum)\n",
        "- No more than $50,000 (reasonable maximum)\n",
        "\n",
        "**Think first:** What condition should your while loop check?"
      ]
    },
    {
      "cell_type": "code",
      "execution_count": null,
      "metadata": {
        "id": "tGgUeuqtBUyj"
      },
      "outputs": [],
      "source": [
        "print(\"=== Monthly Budget Entry ===\")\n",
        "\n",
        "budget = 0  # Start with an invalid value to trigger the loop\n",
        "\n",
        "# Keep looping until budget is within the valid range\n",
        "while budget < 100 or budget > 50000:\n",
        "    try:\n",
        "        budget_str = input(\"Enter monthly budget ($100-$50,000): $\")\n",
        "        budget = float(budget_str)\n",
        "\n",
        "        # Check if budget is in valid range\n",
        "        if budget < 100:\n",
        "            print(\"  ❌ Budget is too low. Must be at least $100.\")\n",
        "        elif budget > 50000:\n",
        "            print(\"  ❌ Budget is too high. Must be no more than $50,000.\")\n",
        "        else:\n",
        "            break  # Valid budget, exit loop\n",
        "\n",
        "    except ValueError:\n",
        "        print(\"  ❌ Please enter a valid number!\")\n",
        "        budget = 0  # Reset to invalid so loop continues\n",
        "\n",
        "print(f\"✅ Budget set to: ${budget:.2f}\")\n"
      ]
    },
    {
      "cell_type": "markdown",
      "metadata": {
        "id": "Lyd90hnKBUyk"
      },
      "source": [
        "### 💡 Pattern Recognition\n",
        "\n",
        "Notice the validation pattern:\n",
        "1. **Initialize** with invalid value\n",
        "2. **Loop while** condition is invalid\n",
        "3. **Get input** inside loop\n",
        "4. **Validate** and give feedback\n",
        "5. **Update** variable to potentially exit loop\n",
        "\n",
        "This pattern works for ANY validation scenario!"
      ]
    },
    {
      "cell_type": "markdown",
      "metadata": {
        "id": "YmzEWFwZBUyl"
      },
      "source": [
        "---\n",
        "\n",
        "## Part 3: Sentinel Values for Unknown Repetition (10 minutes)\n",
        "\n",
        "### 🏁 The \"Done\" Pattern\n",
        "\n",
        "Sometimes you don't know how many times to repeat. You need a **sentinel value** - a special input that means \"stop\"."
      ]
    },
    {
      "cell_type": "code",
      "execution_count": null,
      "metadata": {
        "id": "92Sh5ezpBUyl"
      },
      "outputs": [],
      "source": [
        "print(\"=== Multiple Expense Entry ===\")\n",
        "\n",
        "expenses = []  # List to store expenses\n",
        "total = 0\n",
        "\n",
        "print(\"Enter your expenses (type 'done' when finished):\")\n",
        "\n",
        "while True:\n",
        "    expense_input = input(\"Expense amount (or 'done'): $\")\n",
        " # Sentinel value check\n",
        "    if expense_input.lower().strip() == 'done':\n",
        "        break\n",
        "Validation for numeric and non-negative input\n",
        "    try:\n",
        "        expense = float(expense_input)\n",
        "        if expense >= 0:\n",
        "            expenses.append(expense)\n",
        "            total += expense\n",
        "            print(f\"  Added ${expense:.2f} | Running total: ${total:.2f}\")\n",
        "        else:\n",
        "            print(\"  Expense must be positive!\")\n",
        "    except ValueError:\n",
        "        print(\"  Please enter a valid number or 'done'\")\n",
        "\n",
        "print(f\"\\n📊 Summary: {len(expenses)} expenses totaling ${total:.2f}\")"
      ]
    },
    {
      "cell_type": "markdown",
      "metadata": {
        "id": "ZNviz8VTBUym"
      },
      "source": [
        "### 🎯 Your Challenge: Category Entry\n",
        "\n",
        "Build a system that collects expense categories until the user enters \"finish\":\n",
        "- Ask for category names\n",
        "- Don't allow empty categories\n",
        "- Show count after each entry\n",
        "- Stop when user types \"finish\""
      ]
    },
    {
      "cell_type": "code",
      "execution_count": null,
      "metadata": {
        "id": "A6n2pYw5BUyn"
      },
      "outputs": [],
      "source": [
        "print(\"=== Expense Categories Setup ===\")\n",
        "\n",
        "categories = []  # List to store categories\n",
        "\n",
        "print(\"Enter expense categories (type 'finish' when done):\")\n",
        "\n",
        "while True:\n",
        "    category = input(\"Enter category name: \").strip()\n",
        "\n",
        "    # Sentinel check to exit loop\n",
        "    if category.lower() == \"finish\":\n",
        "        break\n",
        "\n",
        "    # Validate non-empty input\n",
        "    if category == \"\":\n",
        "        print(\"  ❌ Category name cannot be empty!\")\n",
        "    else:\n",
        "        categories.append(category)\n",
        "        print(f\"  ✅ Added category: {category} (Total categories: {len(categories)})\")\n",
        "\n",
        "print(f\"\\n✅ Categories set: {categories}\")\n"
      ]
    },
    {
      "cell_type": "markdown",
      "metadata": {
        "id": "QWYvPcA5BUyn"
      },
      "source": [
        "---\n",
        "\n",
        "## Part 4: For Loops with Known Counts (10 minutes)\n",
        "\n",
        "### 📅 Weekly Expense Planning\n",
        "\n",
        "Sometimes you know exactly how many items you need. Perfect for `for` loops!"
      ]
    },
    {
      "cell_type": "code",
      "execution_count": null,
      "metadata": {
        "id": "HhE30av4BUyo"
      },
      "outputs": [],
      "source": [
        "# === Part 4: Weekly Expense Planner ===\n",
        "print(\"=== Weekly Expense Planner ===\")\n",
        "\n",
        "days = [\"Monday\", \"Tuesday\", \"Wednesday\", \"Thursday\", \"Friday\"]\n",
        "weekly_expenses = []\n",
        "total_week = 0\n",
        "\n",
        "print(\"Plan your expenses for each workday:\")\n",
        "\n",
        "for day in days:\n",
        "    while True:\n",
        "        try:\n",
        "            expense_str = input(f\"{day} planned expense: $\")\n",
        "            expense = float(expense_str)\n",
        "            if expense >= 0:\n",
        "                weekly_expenses.append(expense)\n",
        "                total_week += expense\n",
        "                break\n",
        "            else:\n",
        "                print(\"  ❌ Expense must be non-negative\")\n",
        "        except ValueError:\n",
        "            print(\"  ❌ Please enter a valid number\")\n",
        "\n",
        "print(f\"\\n📅 Weekly Plan: ${total_week:.2f} total\")\n",
        "print(f\"📊 Daily average: ${total_week/len(days):.2f}\")"
      ]
    },
    {
      "cell_type": "markdown",
      "metadata": {
        "id": "vMpdV-36BUyp"
      },
      "source": [
        "### 🎯 Your Challenge: Savings Goals\n",
        "\n",
        "Create a system that tracks progress on exactly 3 savings goals:\n",
        "- Ask for goal name and target amount for each goal\n",
        "- Ask for current progress on each goal  \n",
        "- Calculate and display percentage complete for each\n",
        "- Use `range(3)` to control the loop"
      ]
    },
    {
      "cell_type": "code",
      "execution_count": null,
      "metadata": {
        "id": "mjGDWLkIBUyp"
      },
      "outputs": [],
      "source": [
        "# === Part 4 Challenge: Savings Goals Tracker ===\n",
        "print(\"=== Savings Goals Tracker ===\")\n",
        "\n",
        "goals = []\n",
        "\n",
        "print(\"Let's set up 3 savings goals:\")\n",
        "\n",
        "for i in range(3):\n",
        "    print(f\"\\nGoal {i+1}:\")\n",
        "\n",
        "    name = input(\"  Name of goal: \")\n",
        "\n",
        "    while True:\n",
        "        try:\n",
        "            target = float(input(\"  Target amount: $\"))\n",
        "            if target <= 0:\n",
        "                print(\"    ❌ Target must be positive.\")\n",
        "                continue\n",
        "            break\n",
        "        except ValueError:\n",
        "            print(\"    ❌ Enter a valid number.\")\n",
        "\n",
        "    while True:\n",
        "        try:\n",
        "            current = float(input(\"  Current saved: $\"))\n",
        "            if current < 0:\n",
        "                print(\"    ❌ Cannot be negative.\")\n",
        "                continue\n",
        "            if current > target:\n",
        "                print(\"    ❌ Cannot exceed target.\")\n",
        "                continue\n",
        "            break\n",
        "        except ValueError:\n",
        "            print(\"    ❌ Enter a valid number.\")\n",
        "\n",
        "    percentage = (current / target) * 100\n",
        "    goals.append({\n",
        "        \"name\": name,\n",
        "        \"target\": target,\n",
        "        \"current\": current,\n",
        "        \"percent\": percentage\n",
        "    })\n",
        "\n",
        "# Display summary\n",
        "print(\"\\n📈 Savings Progress:\")\n",
        "for goal in goals:\n",
        "    print(f\"  - {goal['name']}: {goal['percent']:.1f}% complete\")"
      ]
    },
    {
      "cell_type": "markdown",
      "metadata": {
        "id": "KCC_eisSBUyq"
      },
      "source": [
        "---\n",
        "\n",
        "## Part 5: Building Your Enhanced Finance Tracker (10 minutes)\n",
        "\n",
        "### 🚀 Integration Challenge\n",
        "\n",
        "Now combine everything you've learned to enhance your Week 2 finance tracker. Your enhanced version should:\n",
        "\n",
        "1. **Setup Phase**: Get user info with validation\n",
        "2. **Transaction Loop**: Allow multiple expense entries\n",
        "3. **Analysis**: Process all transactions for insights\n",
        "4. **Menu System**: Keep running until user chooses to exit\n",
        "\n",
        "**Start with this framework and complete each section:**"
      ]
    },
    {
      "cell_type": "code",
      "execution_count": null,
      "metadata": {
        "id": "qlVs8TjNBUyr"
      },
      "outputs": [],
      "source": [
        "# === Part 5: Enhanced Finance Tracker ===\n",
        "print(\"=== Enhanced Finance Tracker v0.2 ===\")\n",
        "print(\"Week 3: Now with Loop Power!\\n\")\n",
        "\n",
        "# --- SETUP PHASE ---\n",
        "name = input(\"Enter your name: \")\n",
        "\n",
        "# Monthly budget with validation\n",
        "budget = 0\n",
        "while budget < 100 or budget > 50000:\n",
        "    try:\n",
        "        budget = float(input(\"Enter monthly budget ($100 - $50,000): $\"))\n",
        "        if budget < 100:\n",
        "            print(\"  ❌ Too low!\")\n",
        "        elif budget > 50000:\n",
        "            print(\"  ❌ Too high!\")\n",
        "    except ValueError:\n",
        "        print(\"  ❌ Invalid input.\")\n",
        "\n",
        "print(f\"\\n👋 Welcome, {name}! Budget set at: ${budget:.2f}\")\n",
        "\n",
        "# --- TRANSACTION COLLECTION ---\n",
        "expenses = []\n",
        "descriptions = []\n",
        "total_spent = 0\n",
        "\n",
        "print(\"\\n--- Enter Your Expenses ---\")\n",
        "print(\"Type 'done' when finished.\")\n",
        "\n",
        "while True:\n",
        "    amount_input = input(\"Expense amount: $\")\n",
        "    if amount_input.lower() == \"done\":\n",
        "        break\n",
        "\n",
        "    try:\n",
        "        amount = float(amount_input)\n",
        "        if amount < 0:\n",
        "            print(\"  ❌ Cannot be negative.\")\n",
        "            continue\n",
        "\n",
        "        desc = input(\"  Description: \")\n",
        "        expenses.append(amount)\n",
        "        descriptions.append(desc)\n",
        "        total_spent += amount\n",
        "\n",
        "        percent_used = (total_spent / budget) * 100\n",
        "        print(f\"  ✅ Recorded: ${amount:.2f} for '{desc}' | Budget used: {percent_used:.1f}%\")\n",
        "\n",
        "    except ValueError:\n",
        "        print(\"  ❌ Invalid number.\")\n",
        "\n",
        "# --- ANALYSIS PHASE ---\n",
        "print(\"\\n📊 Expense Analysis:\")\n",
        "print(f\"Total expenses: {len(expenses)}\")\n",
        "print(f\"Total spent: ${total_spent:.2f}\")\n",
        "print(f\"Budget used: {(total_spent / budget) * 100:.1f}%\")\n",
        "print(f\"Remaining: ${budget - total_spent:.2f}\")\n",
        "\n",
        "# Large expenses check (>10% of budget)\n",
        "large_expenses = 0\n",
        "for amount in expenses:\n",
        "    if amount > budget * 0.1:\n",
        "        large_expenses += 1\n",
        "\n",
        "print(f\"Large expenses (>10% of budget): {large_expenses}\")"
      ]
    },
    {
      "cell_type": "markdown",
      "metadata": {
        "id": "7LxAdNgMBUys"
      },
      "source": [
        "### 🤝 AI Checkpoint 2: Code Review\n",
        "\n",
        "After completing your enhanced tracker, ask AI:\n",
        "\n",
        "```\n",
        "\"I've written a finance tracker using while loops for validation and sentinel values for expense collection.\n",
        "Here's my code:\n",
        "[paste your code]\n",
        "\n",
        "1. Are there any common loop errors in my code?\n",
        "2. What loop patterns am I using successfully?\n",
        "3. How could I make the user experience better?\n",
        "\n",
        "Please explain your feedback - I want to understand, not just get fixes.\"\n",
        "```\n",
        "\n",
        "---"
      ]
    },
    {
      "cell_type": "markdown",
      "metadata": {
        "id": "G6KB5HwKBUys"
      },
      "source": [
        "## Part 6: Testing and Debugging (5 minutes)\n",
        "\n",
        "### 🐛 Common Loop Problems\n",
        "\n",
        "Test your enhanced tracker with these scenarios:\n",
        "\n",
        "1. **Edge Case Testing:**\n",
        "   - Enter invalid budget amounts\n",
        "   - Try negative expenses\n",
        "   - Enter non-numeric values\n",
        "   - Type \"done\" immediately (zero expenses)\n",
        "\n",
        "2. **Realistic Testing:**\n",
        "   - Enter 5-7 normal expenses\n",
        "   - Mix small and large amounts\n",
        "   - Use the analysis features\n",
        "\n",
        "### 🔍 Debugging Checklist\n",
        "\n",
        "If your loops aren't working:\n",
        "- ✅ **Infinite loop?** Check that your condition can become False\n",
        "- ✅ **Never executes?** Check your initial values\n",
        "- ✅ **Wrong number of iterations?** Trace through manually\n",
        "- ✅ **Validation not working?** Check your condition logic"
      ]
    },
    {
      "cell_type": "code",
      "execution_count": null,
      "metadata": {
        "id": "05bj1YzNBUys"
      },
      "outputs": [],
      "source": [
        "# === Part 6: Debugging Loops Test ===\n",
        "print(\"Debug test - should count 1 to 5:\")\n",
        "\n",
        "count = 1\n",
        "while count <= 5:\n",
        "    print(count)\n",
        "    count += 1  # Make sure we increment!\n",
        "\n",
        "print(\"✅ If you see 1-5 above, your loops are working!\")"
      ]
    },
    {
      "cell_type": "markdown",
      "metadata": {
        "id": "5lJi8wAxBUyt"
      },
      "source": [
        "---\n",
        "\n",
        "## Part 7: Reflection and Next Steps (5 minutes)\n",
        "\n",
        "### 🤔 Computational Thinking Reflection\n",
        "\n",
        "Answer these questions about your loop learning:\n",
        "\n",
        "1. **Pattern Recognition**: What loop patterns did you use most in your finance tracker?\n",
        "\n",
        "2. **Problem Decomposition**: How did you break down the \"multiple expenses\" problem into smaller loop problems?\n",
        "\n",
        "3. **AI Partnership**: How did AI help you understand loops vs. just giving you code?\n",
        "\n",
        "4. **Transfer Thinking**: Where else in life do you see these same repetition patterns?\n",
        "\n",
        "**Write your reflections below:**"
      ]
    },
    {
      "cell_type": "code",
      "execution_count": null,
      "metadata": {
        "id": "fGkN5yHtBUyt"
      },
      "outputs": [],
      "source": [
        "# === Part 7: Reflection on Loop Learning ===\n",
        "\n",
        "# 1. Pattern Recognition:\n",
        "# I used while loops for validation, sentinel loops for flexible input,\n",
        "# and for loops when I knew exactly how many times to repeat (like weekly days or savings goals).\n",
        "\n",
        "# 2. Problem Decomposition:\n",
        "# I broke the tracker into small parts — collecting data, validating input, analyzing results — and used loops for each.\n",
        "\n",
        "# 3. AI Partnership:\n",
        "# AI helped me understand which loops fit which situation, explained repetition patterns, and debugged when I got stuck.\n",
        "\n",
        "# 4. Transfer Thinking:\n",
        "# I see repetition in budgeting apps, checklists, reminders, habit tracking — all needing the same loop concepts.\n",
        "\n",
        "print(\"🎯 Reflection complete!\")"
      ]
    },
    {
      "cell_type": "markdown",
      "metadata": {
        "id": "aGPjnUMTBUyu"
      },
      "source": [
        "### 🚀 Workshop 1 Complete!\n",
        "\n",
        "**What you've mastered:**\n",
        "- ✅ While loops for input validation\n",
        "- ✅ Sentinel values for unknown repetition\n",
        "- ✅ For loops for known counts\n",
        "- ✅ Combining validation with data collection\n",
        "- ✅ Strategic AI partnership for learning\n",
        "\n",
        "**Your Enhanced Finance Tracker now:**\n",
        "- Handles multiple transactions safely\n",
        "- Validates all user input\n",
        "- Provides running totals and analysis\n",
        "- Uses robust loop patterns\n",
        "\n",
        "### 📅 Coming Next: Workshop 2\n",
        "- Lists for storing transaction history\n",
        "- Processing collections of financial data\n",
        "- Menu systems for interactive programs\n",
        "- Advanced analysis with loop + list combinations\n",
        "\n",
        "---\n",
        "\n",
        "### 💾 Save Your Work!\n",
        "Your enhanced finance tracker is the foundation for Workshop 2. Save this notebook and be ready to extend it further!\n",
        "\n",
        "**Next class preparation:**\n",
        "- Review your reflection answers\n",
        "- Think about what financial insights you'd want from a list of transactions\n",
        "- Practice explaining your loop choices to AI"
      ]
    }
  ],
  "metadata": {
    "kernelspec": {
      "display_name": "Python 3",
      "language": "python",
      "name": "python3"
    },
    "language_info": {
      "name": "python",
      "version": "3.9.0"
    },
    "colab": {
      "provenance": [],
      "include_colab_link": true
    }
  },
  "nbformat": 4,
  "nbformat_minor": 0
}