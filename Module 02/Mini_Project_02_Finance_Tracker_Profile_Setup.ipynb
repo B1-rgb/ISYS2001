{
  "cells": [
    {
      "cell_type": "markdown",
      "metadata": {
        "id": "view-in-github",
        "colab_type": "text"
      },
      "source": [
        "<a href=\"https://colab.research.google.com/github/B1-rgb/ISYS2001/blob/main/Module%2002/Mini_Project_02_Finance_Tracker_Profile_Setup.ipynb\" target=\"_parent\"><img src=\"https://colab.research.google.com/assets/colab-badge.svg\" alt=\"Open In Colab\"/></a>"
      ]
    },
    {
      "cell_type": "markdown",
      "metadata": {
        "id": "Ij1d52FYcPuN"
      },
      "source": [
        "# Mini Project 02: Finance Tracker Profile Setup\n",
        "\n",
        "In this project, you will build the first component of our semester-long Personal Finance Tracker: the user profile setup. This project collates many of the exercises from this week’s activities. This is intentional—by combining these exercises, you can reflect on your progress and see how well you’re following the industry best practices we espouse. These practices include:\n",
        "\n",
        "- **Meaningful Notebook Naming:** Give your notebook a clear, descriptive name (e.g., `finance_tracker_profile_setup.ipynb`).\n",
        "- **Frequent Saves & Version Control:** Save your work often and use descriptive commit messages when uploading to GitHub.\n",
        "- **Descriptive Variable Names:** Use names like `user_name`, `theme_color`, etc., to clearly convey their purpose.\n",
        "- **Code Comments & Documentation:** Use text cells and inline comments to document your thought process.\n",
        "- **Critical Use of AI:** Ask follow-up questions if anything is unclear, and verify that AI suggestions align with the basics you’ve learnt (i.e., using input(), print(), basic data types, and variables).\n",
        "\n",
        "> **Tip:** Review these best practices periodically during the project to reinforce good coding habits.\n",
        "\n",
        "Let's get started!"
      ]
    },
    {
      "cell_type": "raw",
      "metadata": {
        "id": "Ps88qkRGcPuY"
      },
      "source": [
        "---\n",
        "\n",
        "## Project Overview and Instructions\n",
        "\n",
        "In this project, you'll create a program that:\n",
        "1. **Collects User Profile Information:**\n",
        "   Ask for the user's name, preferred app theme color, primary currency, and a main savings goal.\n",
        "2. **Displays a Personalised Welcome Message:**\n",
        "   Outputs a clear summary message using the collected data to confirm the profile setup.\n",
        "3. **Follows Industry Best Practices:**\n",
        "   Emphasises meaningful variable names, proper documentation, and good version control.\n",
        "\n",
        "**Project Steps:**\n",
        "1. **State the Problem**\n",
        "2. **Describe Input and Output**\n",
        "3. **Work the Problem by Hand**\n",
        "4. **Develop an Algorithm (Pseudocode)**\n",
        "5. **Write the Code**\n",
        "6. **Reflect on Best Practices & Use AI to Verify**\n",
        "\n",
        "> **Note:** Use this project as an opportunity to both practise coding and refine your professional development skills.\n",
        "\n",
        "---"
      ]
    },
    {
      "cell_type": "markdown",
      "metadata": {
        "id": "gz-zBa3NcPuY"
      },
      "source": [
        "## Step 1 – State the Problem\n",
        "\n",
        "Define the goal of your program in your own words. For example:\n",
        "\n",
        "- **Goal:** Build a program that creates a user profile for a finance tracker by collecting some initial settings and displays a personalized welcome message.\n",
        "- **Data to Gather:** User's name, preferred theme color, primary currency, and main savings goal.\n",
        "\n",
        "> **AI Usage Tip:**\n",
        "> If you're unsure whether your problem statement is clear, ask an AI tool:  \n",
        "> \"Can you restate my description of a Finance Tracker Profile Setup program using only input(), print(), and variables?\"  \n",
        "> Review the response to ensure it aligns with your current learning."
      ]
    },
    {
      "cell_type": "raw",
      "metadata": {
        "id": "zqObLbfQcPuY"
      },
      "source": [
        "---\n",
        "\n",
        "## Step 2 – Describe Input and Output\n",
        "\n",
        "**Inputs:**\n",
        "- `user_name` (string)\n",
        "- `theme_color` (string)\n",
        "- `primary_currency` (string)\n",
        "- `main_savings_goal` (string)\n",
        "\n",
        "**Expected Output:**\n",
        "A message like:\n",
        "> \"Welcome to your Personal Finance Tracker, [user_name]! Your profile is ready. The app will use a [theme_color] theme and all amounts will be in [primary_currency]. Let's start working towards your goal of saving for a [main_savings_goal]!\"\n",
        "\n",
        "> **Tip:** Mapping your inputs to the expected output helps you visualise the overall flow of your program.\n",
        "\n",
        "> **AI Usage Tip:**\n",
        "> Ask, \"What are some creative ways to format this welcome message for a finance app using only the basics?\" and verify that the suggestions adhere to input(), print(), and basic variables."
      ]
    },
    {
      "cell_type": "markdown",
      "metadata": {
        "id": "BMOazFMmcPuZ"
      },
      "source": [
        "## Step 3 – Work the Problem by Hand\n",
        "\n",
        "Simulate the process with sample inputs. For example, if:\n",
        "- `user_name` = \"Alex\"\n",
        "- `theme_color` = \"dark\"\n",
        "- `primary_currency` = \"AUD\"\n",
        "- `main_savings_goal` = \"a holiday\"\n",
        "\n",
        "Then the expected output is:  \n",
        "> \"Welcome to your Personal Finance Tracker, Alex! Your profile is ready. The app will use a dark theme and all amounts will be in AUD. Let's start working towards your goal of saving for a a holiday!\"\n",
        "\n",
        "> **Tip:** Try a few different scenarios on paper to confirm that your plan produces a consistent and clear output."
      ]
    },
    {
      "cell_type": "markdown",
      "metadata": {
        "id": "aY3xONe6cPuZ"
      },
      "source": [
        "---\n",
        "\n",
        "## Step 4 – Develop an Algorithm (Pseudocode)\n",
        "\n",
        "Outline your approach using pseudocode. For example:\n",
        "\n",
        "```plain\n",
        "1. Start the program.\n",
        "2. Prompt the user for their name and store it.\n",
        "3. Prompt for their preferred theme color and store it.\n",
        "4. Prompt for their primary currency and store it.\n",
        "5. Prompt for their main savings goal and store it.\n",
        "6. Construct a welcome and summary message using these inputs.\n",
        "7. Print the summary message.\n",
        "8. End the program.\n",
        "```\n",
        "\n",
        "> **Tip:** Your pseudocode need not follow Python syntax—it should simply outline the logical steps of your solution.\n",
        "\n",
        "> **AI Usage Tip:**\n",
        "> Ask an AI tool, \"Can you review my pseudocode for a Finance Tracker Profile Setup program and suggest improvements?\" Ensure that any suggestions stay within the basics you have learnt.\n",
        "\n",
        "---\n",
        "\n",
        "## Step 5 – Write the Code\n",
        "\n",
        "Translate your pseudocode into Python code. Below is one example solution:"
      ]
    },
    {
      "cell_type": "code",
      "metadata": {
        "id": "U8Ykypy4cPuZ"
      },
      "source": [
        "# Import the datetime module so we can add a timestamp to our evidence package\n",
        "from datetime import datetime\n",
        "\n",
        "# --------------------------------------------\n",
        "# SECTION 1: Collect user information\n",
        "# --------------------------------------------\n",
        "\n",
        "# Ask the user for their name and store it in a variable\n",
        "user_name = input(\"What is your name? \")\n",
        "print()  # Adds a blank line for readability\n",
        "\n",
        "# Ask for preferred theme color (e.g., dark, blue, etc.)\n",
        "theme_color = input(\"Preferred theme color (e.g., blue, green, dark): \")\n",
        "print()\n",
        "\n",
        "# Ask for primary currency (e.g., USD, AUD, EUR)\n",
        "primary_currency = input(\"Primary currency (e.g., USD, EUR, AUD): \")\n",
        "print()\n",
        "\n",
        "# Ask for the user's main savings goal (e.g., New Car, Holiday)\n",
        "main_savings_goal = input(\"Main savings goal (e.g., new car, holiday): \")\n",
        "print()\n",
        "\n",
        "# --------------------------------------------\n",
        "# SECTION 2: Display the personalized summary\n",
        "# --------------------------------------------\n",
        "\n",
        "# Use an f-string to build a clear, readable message using the inputs above\n",
        "summary = (\n",
        "    f\"Welcome to your Personal Finance Tracker, {user_name}! Your profile is ready.\\n\"\n",
        "    f\"The app will use a {theme_color} theme, and all amounts will be shown in {primary_currency}.\\n\"\n",
        "    f\"Let's start working towards your goal of saving for a {main_savings_goal}!\"\n",
        ")\n",
        "\n",
        "# Print the summary message to confirm the user's profile setup\n",
        "print(summary)"
      ],
      "execution_count": null,
      "outputs": []
    },
    {
      "cell_type": "markdown",
      "metadata": {
        "id": "new-evidence-markdown-cell"
      },
      "source": [
        "---\n",
        "\n",
        "## 📋 Evidence Package for Lab Exit Ticket\n",
        "\n",
        "Complete the following evidence package to document your work and reflect on the process. This will be checked at the start of the next lab."
      ]
    },
    {
      "cell_type": "code",
      "metadata": {
        "id": "new-evidence-code-cell"
      },
      "source": [
        "# SECTION 3: Create an evidence package\n",
        "# --------------------------------------------\n",
        "\n",
        "# This dictionary stores useful details about your project and process,\n",
        "# to be submitted as part of your assignment reflection\n",
        "evidence = {\n",
        "    \"timestamp\": datetime.now().strftime(\"%Y-%m-%d %H:%M:%S\"),  # Current date & time\n",
        "    \"student_name\": \"[Your Name Here]\",  # Replace with your real name\n",
        "    \"project_context\": \"Set up user profile for finance tracker using clean input/output.\",\n",
        "    \"ai_tool_used\": \"Gemini\",  # Or whichever AI tool you used\n",
        "    \"ai_assistance_summary\": \"Simplified and cleaned up code formatting using f-strings and spacing.\",\n",
        "    \"best_practice_reflection\": \"Readable formatting and named variables made logic easy to follow.\",\n",
        "    \"key_learning\": \"Simple code structure is easier to test, debug, and expand later.\"\n",
        "}\n",
        "\n",
        "# --------------------------------------------\n",
        "# SECTION 4: Display the evidence package\n",
        "# --------------------------------------------\n",
        "\n",
        "# Print a separator line and a heading\n",
        "print(\"\\n\" + \"=\"*40)\n",
        "print(\"EVIDENCE PACKAGE\")\n",
        "print(\"=\"*40)\n",
        "\n",
        "# Loop through each item in the evidence dictionary and print it nicely\n",
        "for key, val in evidence.items():\n",
        "    # Format the key by replacing underscores with spaces and capitalizing words\n",
        "    print(f\"{key.replace('_', ' ').title()}: {val}\")\n",
        "\n",
        "# Final line to close off the printed output\n",
        "print(\"=\"*40)\n"
      ],
      "execution_count": null,
      "outputs": []
    },
    {
      "cell_type": "markdown",
      "metadata": {
        "id": "cGuW0n5scPua"
      },
      "source": [
        "---\n",
        "\n",
        "## Reflection on Industry Best Practices\n",
        "\n",
        "Reflect on these questions:\n",
        "- How did using descriptive variable names and comments improve your code?\n",
        "- Did you save your work frequently and use meaningful commit messages on GitHub?\n",
        "- How did documenting your thought process help you understand your solution better?\n",
        "\n",
        "> **AI Usage Tip:**\n",
        "> Ask an AI tool, \"Can you suggest improvements to my project documentation and commit message examples based on industry best practices for a finance app setup?\" Verify that the suggestions are consistent with the fundamentals you have learnt.\n",
        "\n",
        "---\n",
        "\n",
        "## Final Reflection and Next Steps\n",
        "\n",
        "- **Reflect:**\n",
        "  Review your completed project and consider how collating these exercises helped you see your progress. Ask yourself if you’re following the best practices we discussed.\n",
        "- **Experiment:**\n",
        "  Try adding more inputs (like a secondary savings goal) or adjusting the output format.\n",
        "- **Share:**\n",
        "  Post your project on GitHub with clear commit messages and share it with peers for feedback.\n",
        "- **Continue Using AI:**\n",
        "  Use AI tools to clarify doubts or review your work, but always verify that the suggestions align with what you've learnt (i.e., only using input(), print(), and basic variables).\n",
        "\n",
        "> **Final Note:**\n",
        "> Happy coding, and remember—the practices you develop here are examples from industry that help build clean, maintainable code. They’re not definitive rules, but good habits to emulate as you grow as a software developer.\n",
        "\n",
        "---\n",
        "\n",
        "Enjoy building this first step of your Personal Finance Tracker while practising these best practices!"
      ]
    }
  ],
  "metadata": {
    "kernelspec": {
      "name": "python3",
      "language": "python",
      "display_name": "Python 3 (ipykernel)"
    },
    "colab": {
      "provenance": [],
      "include_colab_link": true
    }
  },
  "nbformat": 4,
  "nbformat_minor": 0
}