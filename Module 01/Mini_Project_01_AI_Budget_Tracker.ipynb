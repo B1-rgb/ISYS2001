{
  "cells": [
    {
      "cell_type": "markdown",
      "metadata": {
        "id": "view-in-github",
        "colab_type": "text"
      },
      "source": [
        "<a href=\"https://colab.research.google.com/github/B1-rgb/ISYS2001/blob/main/Module%2001/Mini_Project_01_AI_Budget_Tracker.ipynb\" target=\"_parent\"><img src=\"https://colab.research.google.com/assets/colab-badge.svg\" alt=\"Open In Colab\"/></a>"
      ]
    },
    {
      "cell_type": "markdown",
      "id": "45b851c9",
      "metadata": {
        "id": "45b851c9"
      },
      "source": [
        "# Mini Project 01: AI-Powered Budget Tracker\n",
        "# ISYS2001 Introduction to Business Programming\n",
        "\n",
        "**Instructions:**\n",
        "1. Save a copy of this notebook to your Google Drive (File > Save a copy in Drive)  \n",
        "2. Rename it to include your name: `Week1_Budget_Tracker_[YourName]`  \n",
        "3. Complete all sections and code cells  \n",
        "4. Document your AI interactions as you go\n"
      ]
    },
    {
      "cell_type": "markdown",
      "id": "a60fc4c8",
      "metadata": {
        "id": "a60fc4c8"
      },
      "source": [
        "## Part 1: Environment Setup and First Steps"
      ]
    },
    {
      "cell_type": "code",
      "execution_count": 1,
      "id": "2e576bd1",
      "metadata": {
        "id": "2e576bd1",
        "colab": {
          "base_uri": "https://localhost:8080/"
        },
        "outputId": "5297175e-d346-4339-9787-943cee034dfb"
      },
      "outputs": [
        {
          "output_type": "stream",
          "name": "stdout",
          "text": [
            "🎉 Welcome to ISYS2001: Introduction to Business Programming!\n",
            "📊 Project: Personal Finance Assistant\n",
            "🤖 Today's Goal: Build a Simple Budget Tracker with AI Help\n",
            "\n",
            "📅 Worksheet started at: 2025-07-31 04:28:53\n"
          ]
        }
      ],
      "source": [
        "# Run this cell to test your environment\n",
        "print(\"🎉 Welcome to ISYS2001: Introduction to Business Programming!\")\n",
        "print(\"📊 Project: Personal Finance Assistant\")\n",
        "print(\"🤖 Today's Goal: Build a Simple Budget Tracker with AI Help\")\n",
        "\n",
        "# Import datetime to timestamp your work\n",
        "from datetime import datetime\n",
        "print(f\"\\n📅 Worksheet started at: {datetime.now().strftime('%Y-%m-%d %H:%M:%S')}\")"
      ]
    },
    {
      "cell_type": "markdown",
      "id": "7ac0ada2",
      "metadata": {
        "id": "7ac0ada2"
      },
      "source": [
        "## Part 2: Your First AI Prompt\n",
        "\n",
        "Use an AI assistant (Gemini in Colab, ChatGPT, or GitHub Copilot) to create a program that:\n",
        "- Asks the user for their name\n",
        "- Asks for their monthly income  \n",
        "- Prints a personalized welcome message\n",
        "\n",
        "### 📝 Document Your AI Prompt Below:"
      ]
    },
    {
      "cell_type": "code",
      "source": [],
      "metadata": {
        "id": "e57zDjF_yKcO"
      },
      "id": "e57zDjF_yKcO",
      "execution_count": null,
      "outputs": []
    },
    {
      "cell_type": "code",
      "execution_count": 5,
      "id": "62045e66",
      "metadata": {
        "id": "62045e66",
        "colab": {
          "base_uri": "https://localhost:8080/"
        },
        "outputId": "8cc11e42-1acc-4e17-8e74-74d5b7d4e3d7"
      },
      "outputs": [
        {
          "output_type": "stream",
          "name": "stdout",
          "text": [
            "Ali: abc\n",
            "Hello, abc! Welcome to your personal finance assistant.\n"
          ]
        }
      ],
      "source": [
        "# TASK: Write your AI prompt as a comment below\n",
        "\"\"\"\n",
        "My AI Prompt:\n",
        "Please write a Python program that takes a user's name as input and then prints a personalized greeting message including their name.\n",
        "\"\"\"\n",
        "\n",
        "# Paste the AI-generated code below:\n",
        "name = input(\"Ali: \")\n",
        "print(f\"Hello, {name}! Welcome to your personal finance assistant.\")"
      ]
    },
    {
      "cell_type": "markdown",
      "id": "daaaec49",
      "metadata": {
        "id": "daaaec49"
      },
      "source": [
        "### 🔍 Evidence Package Entry #1"
      ]
    },
    {
      "cell_type": "code",
      "execution_count": 4,
      "id": "667d3549",
      "metadata": {
        "id": "667d3549",
        "colab": {
          "base_uri": "https://localhost:8080/"
        },
        "outputId": "6d9a17e1-331a-413f-93b4-ed2d5d8f195a"
      },
      "outputs": [
        {
          "output_type": "stream",
          "name": "stdout",
          "text": [
            "📋 EVIDENCE PACKAGE #1\n",
            "timestamp: 2025-07-31 04:43:37\n",
            "context: I wanted to create a simple input/output program to practice AI prompting\n",
            "ai_tool_used: Gemini\n",
            "what_worked: The AI understood my request perfectly and provided a correct and functional code snippet.\n",
            "what_didnt: No issues encountered.\n",
            "what_i_learned: I learned that specific and clear prompts lead to accurate and useful AI-generated code, especially for basic programming tasks.\n"
          ]
        }
      ],
      "source": [
        "# Evidence Package Documentation\n",
        "evidence_1 = {\n",
        "    \"timestamp\": datetime.now().strftime('%Y-%m-%d %H:%M:%S'),\n",
        "    \"context\": \"I wanted to create a simple input/output program to practice AI prompting\",\n",
        "    \"ai_tool_used\": \"Gemini\",\n",
        "    \"what_worked\": \"The AI understood my request perfectly and provided a correct and functional code snippet.\",\n",
        "    \"what_didnt\": \"No issues encountered.\",\n",
        "    \"what_i_learned\": \"I learned that specific and clear prompts lead to accurate and useful AI-generated code, especially for basic programming tasks.\"\n",
        "}\n",
        "\n",
        "# Display your evidence\n",
        "print(\"📋 EVIDENCE PACKAGE #1\")\n",
        "for key, value in evidence_1.items():\n",
        "    print(f\"{key}: {value}\")"
      ]
    },
    {
      "cell_type": "markdown",
      "id": "182c831f",
      "metadata": {
        "id": "182c831f"
      },
      "source": [
        "## Part 3: Building the Budget Tracker\n",
        "\n",
        "Use AI to help you write a program that:\n",
        "- Allows users to input their monthly income\n",
        "- Allows users to input up to 3 expenses  \n",
        "- Calculates remaining budget\n",
        "- Shows a warning if budget is negative\n",
        "\n",
        "### 💡 Pro Tip: Be specific about requirements!"
      ]
    },
    {
      "cell_type": "code",
      "execution_count": null,
      "id": "74e672e3",
      "metadata": {
        "id": "74e672e3"
      },
      "outputs": [],
      "source": [
        "# TASK: Write your detailed prompt for the budget tracker\n",
        "\"\"\"\n",
        "My Budget Tracker Prompt:\n",
        "I need a Python program that functions as a simple budget tracker. It should:\n",
        "1. Prompt the user to input their monthly income.\n",
        "2. Allow the user to input up to three separate expenses. For each expense, it should ask for the expense name (e.g., \"Rent\", \"Groceries\") and the amount.\n",
        "3. Calculate the remaining budget after subtracting all expenses from the income.\n",
        "4. Display the initial income, each entered expense with its name and amount, and the calculated remaining budget.\n",
        "5. If the remaining budget is negative, it should display a clear warning message indicating that the user is over budget and by how much.\n",
        "\"\"\"\n"
      ]
    },
    {
      "cell_type": "markdown",
      "id": "4bcfacf4",
      "metadata": {
        "id": "4bcfacf4"
      },
      "source": [
        "### Paste and Test Your AI-Generated Budget Tracker"
      ]
    },
    {
      "cell_type": "code",
      "execution_count": null,
      "id": "2501e778",
      "metadata": {
        "id": "2501e778"
      },
      "outputs": [],
      "source": [
        "# AI-GENERATED BUDGET TRACKER CODE (Initial Draft)\n",
        "# Note: This is the initial AI output before your refinements.\n",
        "# For the final working version, refer to the 'REFINED VERSION' below.\n",
        "def budget_tracker_initial_ai_draft():\n",
        "    print(\"--- Simple Monthly Budget Tracker (Initial AI Draft) ---\")\n",
        "    income = float(input(\"Enter your monthly income: $\"))\n",
        "\n",
        "    expenses = []\n",
        "    for i in range(3): # Only iterates 3 times\n",
        "        expense_name = input(f\"Enter name for expense {i+1}: \")\n",
        "        expense_amount = float(input(f\"Enter amount for {expense_name}: $\"))\n",
        "        expenses.append({\"name\": expense_name, \"amount\": expense_amount})\n",
        "\n",
        "    total_expenses = sum(expense[\"amount\"] for expense in expenses)\n",
        "    remaining_budget = income - total_expenses\n",
        "\n",
        "    print(\"\\n--- Budget Summary ---\")\n",
        "    print(f\"Monthly Income: ${income:,.2f}\")\n",
        "    print(\"Expenses:\")\n",
        "    for expense in expenses:\n",
        "        print(f\"- {expense['name']}: ${expense['amount']:,.2f}\")\n",
        "\n",
        "    print(f\"\\nRemaining Budget: ${remaining_budget:,.2f}\")\n",
        "\n",
        "    if remaining_budget < 0:\n",
        "        print(f\"\\n⚠️ WARNING: You are OVER BUDGET by ${abs(remaining_budget):,.2f}!\")\n",
        "\n",
        "# Uncomment to run the initial AI draft\n",
        "# budget_tracker_initial_ai_draft()"
      ]
    },
    {
      "cell_type": "markdown",
      "id": "f541d525",
      "metadata": {
        "id": "f541d525"
      },
      "source": [
        "### 🐛 Debugging and Refinement"
      ]
    },
    {
      "cell_type": "code",
      "execution_count": null,
      "id": "3f624a27",
      "metadata": {
        "id": "3f624a27"
      },
      "outputs": [],
      "source": [
        "# Document any issues and fixes\n",
        "issues_found = [\n",
        "    \"Issue 1: The initial AI-generated code did not include input validation for numerical inputs (income and expense amounts), meaning non-numeric entries would cause a ValueError. It also didn't handle negative income/expense amounts gracefully.\",\n",
        "    \"Fix 1: Added `try-except` blocks around `float(input())` conversions to catch `ValueError` and prompt the user to re-enter valid numerical data. Also added `if` conditions to check if income or expense amounts were negative and requested positive values.\",\n",
        "    \"Issue 2: The prompt asked for 'up to 3 expenses', but the initial code only iterated exactly 3 times. If a user only had 1 or 2 expenses, they'd be forced to enter '0' for the others or see prompts they didn't need.\",\n",
        "    \"Fix 2: Implemented a `while` loop with a user prompt (`Do you want to add expense X? (yes/no): `) to allow users to optionally add expenses up to the maximum of three, letting them stop at any point.\"\n",
        "]\n",
        "\n",
        "print(\"🔧 DEBUGGING NOTES:\")\n",
        "for item in issues_found:\n",
        "    print(f\"- {item}\")"
      ]
    },
    {
      "cell_type": "code",
      "execution_count": 6,
      "id": "0772261d",
      "metadata": {
        "id": "0772261d",
        "colab": {
          "base_uri": "https://localhost:8080/"
        },
        "outputId": "3ef426ac-80dd-4efb-c001-c0854f80f008"
      },
      "outputs": [
        {
          "output_type": "stream",
          "name": "stdout",
          "text": [
            "--- Simple Monthly Budget Tracker ---\n",
            "Enter your monthly income: $100\n",
            "Do you want to add expense 1? (yes/no): yes\n",
            "Enter name for expense 1 (e.g., Rent, Groceries): rent\n",
            "Enter amount for rent: $88\n",
            "Do you want to add expense 2? (yes/no): yes\n",
            "Enter name for expense 2 (e.g., Rent, Groceries): rent\n",
            "Enter amount for rent: $11\n",
            "Do you want to add expense 3? (yes/no): yes\n",
            "Enter name for expense 3 (e.g., Rent, Groceries): groceries\n",
            "Enter amount for groceries: $33\n",
            "\n",
            "--- Budget Summary ---\n",
            "Monthly Income: $100.00\n",
            "Expenses:\n",
            "- rent: $88.00\n",
            "- rent: $11.00\n",
            "- groceries: $33.00\n",
            "\n",
            "Remaining Budget: $-32.00\n",
            "\n",
            "⚠️ WARNING: You are OVER BUDGET by $32.00! Consider cutting down on expenses.\n"
          ]
        }
      ],
      "source": [
        "# REFINED VERSION - Your Working Budget Tracker\n",
        "def budget_tracker_refined():\n",
        "    print(\"--- Simple Monthly Budget Tracker ---\")\n",
        "\n",
        "    # 1. Input monthly income with validation\n",
        "    while True:\n",
        "        try:\n",
        "            income = float(input(\"Enter your monthly income: $\"))\n",
        "            if income < 0:\n",
        "                print(\"Income cannot be negative. Please enter a positive value.\")\n",
        "            else:\n",
        "                break\n",
        "        except ValueError:\n",
        "            print(\"Invalid input. Please enter a numerical value for income.\")\n",
        "\n",
        "    expenses = []\n",
        "    num_expenses = 0\n",
        "\n",
        "    # 2. Input up to 3 expenses with names and amounts, with validation and option to stop\n",
        "    while num_expenses < 3:\n",
        "        add_more = input(f\"Do you want to add expense {num_expenses + 1}? (yes/no): \").lower()\n",
        "        if add_more != 'yes':\n",
        "            break\n",
        "\n",
        "        expense_name = input(f\"Enter name for expense {num_expenses + 1} (e.g., Rent, Groceries): \")\n",
        "        while True:\n",
        "            try:\n",
        "                expense_amount = float(input(f\"Enter amount for {expense_name}: $\"))\n",
        "                if expense_amount < 0:\n",
        "                    print(\"Expense amount cannot be negative. Please enter a positive value.\")\n",
        "                else:\n",
        "                    expenses.append({\"name\": expense_name, \"amount\": expense_amount})\n",
        "                    num_expenses += 1\n",
        "                    break\n",
        "            except ValueError:\n",
        "                print(\"Invalid input. Please enter a numerical value for the expense amount.\")\n",
        "\n",
        "    # Calculate remaining budget\n",
        "    total_expenses = sum(expense[\"amount\"] for expense in expenses)\n",
        "    remaining_budget = income - total_expenses\n",
        "\n",
        "    # Display budget summary\n",
        "    print(\"\\n--- Budget Summary ---\")\n",
        "    print(f\"Monthly Income: ${income:,.2f}\")\n",
        "    print(\"Expenses:\")\n",
        "    if expenses:\n",
        "        for expense in expenses:\n",
        "            print(f\"- {expense['name']}: ${expense['amount']:,.2f}\")\n",
        "    else:\n",
        "        print(\"No expenses entered.\")\n",
        "\n",
        "    print(f\"\\nRemaining Budget: ${remaining_budget:,.2f}\")\n",
        "\n",
        "    # Show warning if budget is negative\n",
        "    if remaining_budget < 0:\n",
        "        print(f\"\\n⚠️ WARNING: You are OVER BUDGET by ${abs(remaining_budget):,.2f}! Consider cutting down on expenses.\")\n",
        "\n",
        "# Run the refined budget tracker\n",
        "budget_tracker_refined()"
      ]
    },
    {
      "cell_type": "markdown",
      "id": "ca842a66",
      "metadata": {
        "id": "ca842a66"
      },
      "source": [
        "## Part 4: Enhancement Challenge\n",
        "\n",
        "Choose ONE feature to add using AI assistance:\n",
        "- 🏷️ Expense categories (food, transport, entertainment)\n",
        "- 📊 Show percentage of income spent\n",
        "- ✅ Input validation (no negative numbers)\n",
        "- 📝 Detailed budget summary with advice"
      ]
    },
    {
      "cell_type": "code",
      "execution_count": null,
      "id": "fbd649d2",
      "metadata": {
        "id": "fbd649d2"
      },
      "outputs": [],
      "source": [
        "## Part 4: Enhancement Challenge\n",
        "\n",
        "# Document your enhancement\n",
        "enhancement_choice = \"I chose to add: ✅ Input validation (no negative numbers for income/expenses) and an option to stop adding expenses at any time.\"\n",
        "enhancement_prompt = \"\"\"\n",
        "I have a budget tracker program. I want to enhance it by adding robust input validation. Specifically:\n",
        "1. Ensure that the monthly income entered by the user is a positive numerical value. If not, prompt them to re-enter.\n",
        "2. Ensure that each expense amount entered is also a positive numerical value. If not, prompt them to re-enter.\n",
        "3. Allow the user to decide if they want to add another expense, rather than forcing them to enter up to 3. They should be able to stop adding expenses at any point.\n",
        "\"\"\"\n",
        "\n",
        "print(f\"🚀 ENHANCEMENT: {enhancement_choice}\")\n",
        "\n"
      ]
    },
    {
      "cell_type": "code",
      "execution_count": null,
      "id": "b12879f3",
      "metadata": {
        "id": "b12879f3"
      },
      "outputs": [],
      "source": [
        "# ENHANCED BUDGET TRACKER\n",
        "# The 'REFINED VERSION - Your Working Budget Tracker' already incorporates the chosen enhancements\n",
        "# as I refined the AI-generated code based on my debugging notes and the prompt for enhancements.\n",
        "# Therefore, the code provided in the previous cell (budget_tracker_refined) serves as the enhanced version.\n",
        "\n",
        "# I am pasting it again here for clarity that it is the \"enhanced\" version.\n",
        "def budget_tracker_enhanced():\n",
        "    print(\"--- Enhanced Monthly Budget Tracker ---\")\n",
        "\n",
        "    # 1. Input monthly income with validation\n",
        "    while True:\n",
        "        try:\n",
        "            income = float(input(\"Enter your monthly income: $\"))\n",
        "            if income < 0:\n",
        "                print(\"Income cannot be negative. Please enter a positive value.\")\n",
        "            else:\n",
        "                break\n",
        "        except ValueError:\n",
        "            print(\"Invalid input. Please enter a numerical value for income.\")\n",
        "\n",
        "    expenses = []\n",
        "    num_expenses = 0\n",
        "\n",
        "    # 2. Input up to 3 expenses with names and amounts, with validation and option to stop\n",
        "    while num_expenses < 3:\n",
        "        add_more = input(f\"Do you want to add expense {num_expenses + 1}? (yes/no): \").lower()\n",
        "        if add_more != 'yes':\n",
        "            break\n",
        "\n",
        "        expense_name = input(f\"Enter name for expense {num_expenses + 1} (e.g., Rent, Groceries): \")\n",
        "        while True:\n",
        "            try:\n",
        "                expense_amount = float(input(f\"Enter amount for {expense_name}: $\"))\n",
        "                if expense_amount < 0:\n",
        "                    print(\"Expense amount cannot be negative. Please enter a positive value.\")\n",
        "                else:\n",
        "                    expenses.append({\"name\": expense_name, \"amount\": expense_amount})\n",
        "                    num_expenses += 1\n",
        "                    break\n",
        "            except ValueError:\n",
        "                print(\"Invalid input. Please enter a numerical value for the expense amount.\")\n",
        "\n",
        "    # Calculate remaining budget\n",
        "    total_expenses = sum(expense[\"amount\"] for expense in expenses)\n",
        "    remaining_budget = income - total_expenses\n",
        "\n",
        "    # Display budget summary\n",
        "    print(\"\\n--- Budget Summary ---\")\n",
        "    print(f\"Monthly Income: ${income:,.2f}\")\n",
        "    print(\"Expenses:\")\n",
        "    if expenses:\n",
        "        for expense in expenses:\n",
        "            print(f\"- {expense['name']}: ${expense['amount']:,.2f}\")\n",
        "    else:\n",
        "        print(\"No expenses entered.\")\n",
        "\n",
        "    print(f\"\\nRemaining Budget: ${remaining_budget:,.2f}\")\n",
        "\n",
        "    # Show warning if budget is negative\n",
        "    if remaining_budget < 0:\n",
        "        print(f\"\\n⚠️ WARNING: You are OVER BUDGET by ${abs(remaining_budget):,.2f}! Consider cutting down on expenses.\")\n",
        "\n",
        "# Run the enhanced budget tracker\n",
        "budget_tracker_enhanced()"
      ]
    },
    {
      "cell_type": "markdown",
      "id": "cfa2845b",
      "metadata": {
        "id": "cfa2845b"
      },
      "source": [
        "## Part 5: Reflection and Lab Exit Ticket Preparation"
      ]
    },
    {
      "cell_type": "code",
      "execution_count": null,
      "id": "220ff6b4",
      "metadata": {
        "id": "220ff6b4"
      },
      "outputs": [],
      "source": [
        "# Final Evidence Package Summary\n",
        "evidence_2 = {\n",
        "    \"timestamp\": datetime.now().strftime('%Y-%m-%d %H:%M:%S'),\n",
        "    \"context\": \"Creating the full budget tracker with enhancements\",\n",
        "    \"ai_tool_used\": \"Gemini\",\n",
        "    \"prompts_used\": 2,  # Initial simple input/output, then budget tracker detailed prompt\n",
        "    \"iterations_needed\": 2,  # Initial AI code, then manual refinement/enhancement\n",
        "    \"final_reflection\": \"AI is incredibly helpful for quickly generating initial code structures, especially for common programming patterns like input/output and basic calculations. However, it's crucial to thoroughly review the generated code for potential issues like lack of input validation or adherence to all specific requirements. Iteration and manual refinement, guided by clear debugging, are essential to produce robust and user-friendly programs. Detailed and specific prompts significantly improve the quality of the AI's first attempt.\"\n",
        "}\n",
        "\n",
        "print(\"📋 EVIDENCE PACKAGE #2 (Final)\")\n",
        "for key, value in evidence_2.items():\n",
        "    print(f\"{key}: {value}\")"
      ]
    },
    {
      "cell_type": "markdown",
      "id": "69d17be0",
      "metadata": {
        "id": "69d17be0"
      },
      "source": [
        "## 🎯 Submission Checklist\n",
        "\n",
        "Before submitting:\n",
        "- ✅ All code cells run without errors\n",
        "- ✅ You've documented at least 2 AI interactions  \n",
        "- ✅ Budget tracker accepts income and 3+ expenses\n",
        "- ✅ Completed both Evidence Packages\n",
        "- ✅ Attempted the enhancement challenge\n",
        "- ✅ Reflected on your AI collaboration experience"
      ]
    },
    {
      "cell_type": "code",
      "execution_count": null,
      "id": "0d85c2f1",
      "metadata": {
        "id": "0d85c2f1"
      },
      "outputs": [],
      "source": [
        "# Generate submission summary\n",
        "print(\"=\"*50)\n",
        "print(\"WEEK 1 WORKSHEET COMPLETION SUMMARY\")\n",
        "print(\"=\"*50)\n",
        "print(f\"Student Name: [Your Name]\") # Don't forget to replace this with your actual name!\n",
        "print(f\"Completion Time: {datetime.now().strftime('%Y-%m-%d %H:%M:%S')}\")\n",
        "print(\"\\nCore Features Implemented:\")\n",
        "print(\"✅ Basic income/expense input\")\n",
        "print(\"✅ Budget calculation\")\n",
        "print(\"✅ Warning for negative budget\")\n",
        "print(\"✅ Enhancement: Input validation (no negative numbers) and optional expense entry\")\n",
        "print(\"\\nAI Collaboration Stats:\")\n",
        "print(f\"- AI tools used: Gemini\")\n",
        "print(f\"- Number of prompts: 2\")\n",
        "print(f\"- Success rate: 80%\") # Estimated success rate, as initial code needed refinement\n",
        "print(\"\\n🎉 Ready for Lab Exit Ticket submission!\")"
      ]
    },
    {
      "cell_type": "markdown",
      "id": "63b51742",
      "metadata": {
        "id": "63b51742"
      },
      "source": [
        "## 💭 Final Reflection Questions\n",
        "\n",
        "**1. What surprised you most about working with AI to generate code?**  \n",
        "[Your answer here]\n",
        "\n",
        "**2. What makes a good prompt vs. a poor prompt?**  \n",
        "[Your answer here]\n",
        "\n",
        "**3. How do you see AI tools fitting into your future programming workflow?**  \n",
        "[Your answer here]\n",
        "\n",
        "---\n",
        "\n",
        "### 📁 Save and Next Steps:\n",
        "1. File > Save a copy in GitHub (if you haven't already)    \n",
        "2. Prepare evidence for next lab session for the Exit Ticket  \n",
        "3. Start thinking about Week 2: Variables & Data Types!\n"
      ]
    },
    {
      "cell_type": "code",
      "source": [],
      "metadata": {
        "id": "rdAf6Gc517wB"
      },
      "id": "rdAf6Gc517wB",
      "execution_count": null,
      "outputs": []
    }
  ],
  "metadata": {
    "colab": {
      "provenance": [],
      "include_colab_link": true
    },
    "language_info": {
      "name": "python"
    },
    "kernelspec": {
      "name": "python3",
      "display_name": "Python 3"
    }
  },
  "nbformat": 4,
  "nbformat_minor": 5
}